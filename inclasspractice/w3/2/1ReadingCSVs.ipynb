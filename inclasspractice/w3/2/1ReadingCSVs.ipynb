{
 "metadata": {
  "language_info": {
   "codemirror_mode": {
    "name": "ipython",
    "version": 3
   },
   "file_extension": ".py",
   "mimetype": "text/x-python",
   "name": "python",
   "nbconvert_exporter": "python",
   "pygments_lexer": "ipython3",
   "version": "3.8.3-final"
  },
  "orig_nbformat": 2,
  "kernelspec": {
   "name": "python_defaultSpec_1600992203032",
   "display_name": "Python 3.8.3 64-bit ('base': conda)"
  }
 },
 "nbformat": 4,
 "nbformat_minor": 2,
 "cells": [
  {
   "cell_type": "code",
   "execution_count": 1,
   "metadata": {},
   "outputs": [],
   "source": [
    "import pandas as pd"
   ]
  },
  {
   "cell_type": "code",
   "execution_count": 11,
   "metadata": {},
   "outputs": [],
   "source": [
    "df = pd.read_csv(\"~/Documents/FCR/class/03-Python-Pandas/2/Activities/02-Stu_Reading_CSVs/Resources/amd_stock_data.csv\")"
   ]
  },
  {
   "cell_type": "code",
   "execution_count": 13,
   "metadata": {},
   "outputs": [
    {
     "output_type": "execute_result",
     "data": {
      "text/plain": "   4/29/09  3.51  11537950   3.4  3.56  3.38\n0  4/30/09  3.61  18193730  3.55  3.73  3.53\n1   5/1/09  3.82  16233940  3.55  3.90  3.55\n2   5/4/09  4.26  21236940  3.90  4.30  3.83\n3   5/5/09  4.32  16369170  4.36  4.39  4.11\n4   5/6/09  4.31  15075630  4.45  4.45  4.12\n5   5/7/09  4.01  23369680  4.22  4.35  3.91\n6   5/8/09  3.93  14316080  4.12  4.15  3.84\n7  5/11/09  4.22  25214610  3.90  4.37  3.87\n8  5/12/09  4.35  29715910  4.41  4.50  4.13\n9  5/13/09  4.38  35462450  4.36  4.67  4.33",
      "text/html": "<div>\n<style scoped>\n    .dataframe tbody tr th:only-of-type {\n        vertical-align: middle;\n    }\n\n    .dataframe tbody tr th {\n        vertical-align: top;\n    }\n\n    .dataframe thead th {\n        text-align: right;\n    }\n</style>\n<table border=\"1\" class=\"dataframe\">\n  <thead>\n    <tr style=\"text-align: right;\">\n      <th></th>\n      <th>4/29/09</th>\n      <th>3.51</th>\n      <th>11537950</th>\n      <th>3.4</th>\n      <th>3.56</th>\n      <th>3.38</th>\n    </tr>\n  </thead>\n  <tbody>\n    <tr>\n      <th>0</th>\n      <td>4/30/09</td>\n      <td>3.61</td>\n      <td>18193730</td>\n      <td>3.55</td>\n      <td>3.73</td>\n      <td>3.53</td>\n    </tr>\n    <tr>\n      <th>1</th>\n      <td>5/1/09</td>\n      <td>3.82</td>\n      <td>16233940</td>\n      <td>3.55</td>\n      <td>3.90</td>\n      <td>3.55</td>\n    </tr>\n    <tr>\n      <th>2</th>\n      <td>5/4/09</td>\n      <td>4.26</td>\n      <td>21236940</td>\n      <td>3.90</td>\n      <td>4.30</td>\n      <td>3.83</td>\n    </tr>\n    <tr>\n      <th>3</th>\n      <td>5/5/09</td>\n      <td>4.32</td>\n      <td>16369170</td>\n      <td>4.36</td>\n      <td>4.39</td>\n      <td>4.11</td>\n    </tr>\n    <tr>\n      <th>4</th>\n      <td>5/6/09</td>\n      <td>4.31</td>\n      <td>15075630</td>\n      <td>4.45</td>\n      <td>4.45</td>\n      <td>4.12</td>\n    </tr>\n    <tr>\n      <th>5</th>\n      <td>5/7/09</td>\n      <td>4.01</td>\n      <td>23369680</td>\n      <td>4.22</td>\n      <td>4.35</td>\n      <td>3.91</td>\n    </tr>\n    <tr>\n      <th>6</th>\n      <td>5/8/09</td>\n      <td>3.93</td>\n      <td>14316080</td>\n      <td>4.12</td>\n      <td>4.15</td>\n      <td>3.84</td>\n    </tr>\n    <tr>\n      <th>7</th>\n      <td>5/11/09</td>\n      <td>4.22</td>\n      <td>25214610</td>\n      <td>3.90</td>\n      <td>4.37</td>\n      <td>3.87</td>\n    </tr>\n    <tr>\n      <th>8</th>\n      <td>5/12/09</td>\n      <td>4.35</td>\n      <td>29715910</td>\n      <td>4.41</td>\n      <td>4.50</td>\n      <td>4.13</td>\n    </tr>\n    <tr>\n      <th>9</th>\n      <td>5/13/09</td>\n      <td>4.38</td>\n      <td>35462450</td>\n      <td>4.36</td>\n      <td>4.67</td>\n      <td>4.33</td>\n    </tr>\n  </tbody>\n</table>\n</div>"
     },
     "metadata": {},
     "execution_count": 13
    }
   ],
   "source": [
    "df.head(10)"
   ]
  },
  {
   "cell_type": "code",
   "execution_count": null,
   "metadata": {},
   "outputs": [],
   "source": []
  }
 ]
}