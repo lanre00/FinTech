{
 "metadata": {
  "language_info": {
   "codemirror_mode": {
    "name": "ipython",
    "version": 3
   },
   "file_extension": ".py",
   "mimetype": "text/x-python",
   "name": "python",
   "nbconvert_exporter": "python",
   "pygments_lexer": "ipython3",
   "version": "3.8.3-final"
  },
  "orig_nbformat": 2,
  "kernelspec": {
   "name": "Python 3.8.3 64-bit ('base': conda)",
   "display_name": "Python 3.8.3 64-bit ('base': conda)",
   "metadata": {
    "interpreter": {
     "hash": "56aa745dbf110fffe67ab97579c8426f9f33b0f6d85a0b1870a0b4b42d694f05"
    }
   }
  }
 },
 "nbformat": 4,
 "nbformat_minor": 2,
 "cells": [
  {
   "cell_type": "code",
   "execution_count": 43,
   "metadata": {},
   "outputs": [],
   "source": [
    "import requests\n",
    "import json"
   ]
  },
  {
   "cell_type": "code",
   "execution_count": 44,
   "metadata": {},
   "outputs": [],
   "source": [
    "url = \"https://official-joke-api.appspot.com/jokes/programming/random\""
   ]
  },
  {
   "cell_type": "code",
   "execution_count": 45,
   "metadata": {},
   "outputs": [],
   "source": [
    "jokes = requests.get(url)"
   ]
  },
  {
   "cell_type": "code",
   "execution_count": 46,
   "metadata": {},
   "outputs": [
    {
     "output_type": "execute_result",
     "data": {
      "text/plain": "b&#39;[{&quot;id&quot;:15,&quot;type&quot;:&quot;programming&quot;,&quot;setup&quot;:&quot;What\\&#39;s the best thing about a Boolean?&quot;,&quot;punchline&quot;:&quot;Even if you\\&#39;re wrong, you\\&#39;re only off by a bit.&quot;}]&#39;"
     },
     "metadata": {},
     "execution_count": 46
    }
   ],
   "source": [
    "jokes.content"
   ]
  },
  {
   "cell_type": "code",
   "execution_count": 47,
   "metadata": {},
   "outputs": [],
   "source": [
    "data = jokes.json()"
   ]
  },
  {
   "cell_type": "code",
   "execution_count": 48,
   "metadata": {},
   "outputs": [],
   "source": [
    "from pprint import pprint"
   ]
  },
  {
   "cell_type": "code",
   "execution_count": 49,
   "metadata": {
    "tags": []
   },
   "outputs": [
    {
     "output_type": "stream",
     "name": "stdout",
     "text": "[{&#39;id&#39;: 15,\n  &#39;punchline&#39;: &quot;Even if you&#39;re wrong, you&#39;re only off by a bit.&quot;,\n  &#39;setup&#39;: &quot;What&#39;s the best thing about a Boolean?&quot;,\n  &#39;type&#39;: &#39;programming&#39;}]\n"
    }
   ],
   "source": [
    "pprint(data)"
   ]
  },
  {
   "cell_type": "code",
   "execution_count": 51,
   "metadata": {
    "tags": []
   },
   "outputs": [
    {
     "output_type": "stream",
     "name": "stdout",
     "text": "Even if you&#39;re wrong, you&#39;re only off by a bit.\nWhat&#39;s the best thing about a Boolean?\n"
    }
   ],
   "source": [
    "print(data[0][\"punchline\"])\n",
    "print(data[0][\"setup\"])"
   ]
  }
 ]
}