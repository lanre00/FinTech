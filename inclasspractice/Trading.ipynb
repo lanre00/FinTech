{
 "metadata": {
  "language_info": {
   "codemirror_mode": {
    "name": "ipython",
    "version": 3
   },
   "file_extension": ".py",
   "mimetype": "text/x-python",
   "name": "python",
   "nbconvert_exporter": "python",
   "pygments_lexer": "ipython3",
   "version": "3.8.3-final"
  },
  "orig_nbformat": 2,
  "kernelspec": {
   "name": "python_defaultSpec_1600393792931",
   "display_name": "Python 3.8.3 64-bit ('base': conda)"
  }
 },
 "nbformat": 4,
 "nbformat_minor": 2,
 "cells": [
  {
   "cell_type": "code",
   "execution_count": 5,
   "metadata": {},
   "outputs": [],
   "source": [
    "trading_pnl = [-224,  352, 252, 354, -544, -650,   56, 123, -43,  254, 325, -123,  47, 321,  123, 133, -151, 613, 232, -311]"
   ]
  },
  {
   "cell_type": "code",
   "execution_count": 6,
   "metadata": {},
   "outputs": [
    {
     "output_type": "execute_result",
     "data": {
      "text/plain": "[-224,\n 352,\n 252,\n 354,\n -544,\n -650,\n 56,\n 123,\n -43,\n 254,\n 325,\n -123,\n 47,\n 321,\n 123,\n 133,\n -151,\n 613,\n 232,\n -311]"
     },
     "metadata": {},
     "execution_count": 6
    }
   ],
   "source": [
    "trading_pnl"
   ]
  },
  {
   "cell_type": "code",
   "execution_count": null,
   "metadata": {},
   "outputs": [],
   "source": []
  }
 ]
}