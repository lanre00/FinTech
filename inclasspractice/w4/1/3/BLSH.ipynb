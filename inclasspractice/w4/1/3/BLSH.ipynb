{
 "metadata": {
  "language_info": {
   "codemirror_mode": {
    "name": "ipython",
    "version": 3
   },
   "file_extension": ".py",
   "mimetype": "text/x-python",
   "name": "python",
   "nbconvert_exporter": "python",
   "pygments_lexer": "ipython3",
   "version": "3.8.3-final"
  },
  "orig_nbformat": 2,
  "kernelspec": {
   "name": "Python 3.8.3 64-bit ('base': conda)",
   "display_name": "Python 3.8.3 64-bit ('base': conda)",
   "metadata": {
    "interpreter": {
     "hash": "56aa745dbf110fffe67ab97579c8426f9f33b0f6d85a0b1870a0b4b42d694f05"
    }
   }
  }
 },
 "nbformat": 4,
 "nbformat_minor": 2,
 "cells": [
  {
   "cell_type": "code",
   "execution_count": 1,
   "metadata": {},
   "outputs": [],
   "source": [
    "#Import libraries\n",
    "# List stock prices in chron order...it currently is in that order\n",
    "#Function to identify the lowest and highest price\n"
   ]
  },
  {
   "cell_type": "code",
   "execution_count": 4,
   "metadata": {},
   "outputs": [],
   "source": [
    "# Identify defining variables\n",
    "\n",
    "stock_prices = [1.42, 1.32, 1.45, 1.20, 1.34, 1.74, 1.10, 1.89, 1.42, 1.90, 1.80, 1.85]\n",
    "\n",
    "number_shares = 10000"
   ]
  },
  {
   "cell_type": "code",
   "execution_count": 5,
   "metadata": {},
   "outputs": [],
   "source": [
    "# Define a function\n",
    "\n",
    "def Stock_Max(): \n",
    "\n",
    "        #initialize variables you want\n",
    "        max_value = 0\n",
    "        min_value = 0\n",
    "\n",
    "        #loop thru the list of stocks\n",
    "        for price_x in stock_prices:\n",
    "           \n",
    "\n",
    "            # Check to find out if the current prices is the first entry, if itis set it to min and max prices \n",
    "            if min_value == 0 and max_value == 0:\n",
    "                min_value = price_x\n",
    "                max_value = price_x\n",
    "\n",
    "            #Chec if the values are less or more from each other\n",
    "            elif price_x < min_value:\n",
    "                min_value = price_x\n",
    "\n",
    "            elif price_x > max_value:\n",
    "                max_value = price_x\n",
    "                        \n",
    "            # Calculating the profit of every pair of the stock_prices list\n",
    "        profit = (max_value - min_value)*number_shares\n",
    "        loss = (min_value - max_value)*number_shares\n",
    "\n",
    "        return profit,loss\n"
   ]
  },
  {
   "cell_type": "code",
   "execution_count": 6,
   "metadata": {
    "tags": []
   },
   "outputs": [
    {
     "output_type": "execute_result",
     "data": {
      "text/plain": "(7999.999999999998, -7999.999999999998)"
     },
     "metadata": {},
     "execution_count": 6
    }
   ],
   "source": [
    "Stock_Max()"
   ]
  },
  {
   "cell_type": "code",
   "execution_count": null,
   "metadata": {},
   "outputs": [],
   "source": []
  }
 ]
}