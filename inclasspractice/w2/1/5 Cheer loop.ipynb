{
 "metadata": {
  "language_info": {
   "codemirror_mode": {
    "name": "ipython",
    "version": 3
   },
   "file_extension": ".py",
   "mimetype": "text/x-python",
   "name": "python",
   "nbconvert_exporter": "python",
   "pygments_lexer": "ipython3",
   "version": "3.8.3-final"
  },
  "orig_nbformat": 2,
  "kernelspec": {
   "name": "Python 3.8.3 64-bit ('base': conda)",
   "display_name": "Python 3.8.3 64-bit ('base': conda)",
   "metadata": {
    "interpreter": {
     "hash": "56aa745dbf110fffe67ab97579c8426f9f33b0f6d85a0b1870a0b4b42d694f05"
    }
   }
  }
 },
 "nbformat": 4,
 "nbformat_minor": 2,
 "cells": [
  {
   "cell_type": "code",
   "execution_count": 12,
   "metadata": {},
   "outputs": [],
   "source": [
    "#Create a variable named `cheer` that holds a single word as a string.\n",
    "\n",
    "cheer = \"Lanre\""
   ]
  },
  {
   "cell_type": "code",
   "execution_count": 13,
   "metadata": {},
   "outputs": [],
   "source": [
    "# Below strings can be used to add fun\n",
    "cheer_symbol = \"*\\O/*\"\n",
    "cheer_symbol_2 = \"ヘ( ^o^)ノ＼(^_^ )\""
   ]
  },
  {
   "cell_type": "code",
   "execution_count": 15,
   "metadata": {
    "tags": []
   },
   "outputs": [
    {
     "output_type": "stream",
     "name": "stdout",
     "text": "Give me a L!\nL!\nGive me a a!\na!\nGive me a n!\nn!\nGive me a r!\nr!\nGive me a e!\ne!\n\nWhat does that spell?!\nLanre!\nWoohoo! Go Lanre!\n*\\O/**\\O/**\\O/*\nヘ( ^o^)ノ＼(^_^ )\n"
    }
   ],
   "source": [
    "# Use a `for` loop to loop through each letter in the word.\n",
    "\n",
    "for x in cheer:\n",
    "    \n",
    "    #Print each letter with a cheer\n",
    "    print(\"Give me a \" + x + \"!\")\n",
    "    print(x + \"!\")\n",
    "\n",
    "# Print excitement to screen\n",
    "print(\"\\nWhat does that spell?!\")\n",
    "print(cheer + \"!\\nWoohoo! Go \" + cheer + \"!\")\n",
    "print(cheer_symbol * 3)\n",
    "print(cheer_symbol_2)\n"
   ]
  }
 ]
}