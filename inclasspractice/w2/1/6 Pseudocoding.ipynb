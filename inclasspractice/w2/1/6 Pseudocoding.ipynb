{
 "metadata": {
  "language_info": {
   "codemirror_mode": {
    "name": "ipython",
    "version": 3
   },
   "file_extension": ".py",
   "mimetype": "text/x-python",
   "name": "python",
   "nbconvert_exporter": "python",
   "pygments_lexer": "ipython3",
   "version": "3.8.3-final"
  },
  "orig_nbformat": 2,
  "kernelspec": {
   "name": "Python 3.8.3 64-bit ('base': conda)",
   "display_name": "Python 3.8.3 64-bit ('base': conda)",
   "metadata": {
    "interpreter": {
     "hash": "56aa745dbf110fffe67ab97579c8426f9f33b0f6d85a0b1870a0b4b42d694f05"
    }
   }
  }
 },
 "nbformat": 4,
 "nbformat_minor": 2,
 "cells": [
  {
   "cell_type": "code",
   "execution_count": 7,
   "metadata": {},
   "outputs": [],
   "source": [
    "# Assign and create formula variables\n",
    "\n",
    "Current_Price = 489.50\n",
    "Original_Price = 489.11\n"
   ]
  },
  {
   "cell_type": "code",
   "execution_count": 10,
   "metadata": {
    "tags": []
   },
   "outputs": [
    {
     "output_type": "stream",
     "name": "stdout",
     "text": "0.38999999999998636\n0.07973666455398302\n"
    }
   ],
   "source": [
    "# Calculate variables increase and percent increase\n",
    "\n",
    "Increase = Current_Price - Original_Price\n",
    "Percent_Increase = (Increase / Original_Price) * 100\n",
    "\n",
    "print(Increase)\n",
    "print(Percent_Increase)"
   ]
  },
  {
   "cell_type": "code",
   "execution_count": 14,
   "metadata": {
    "tags": []
   },
   "outputs": [
    {
     "output_type": "stream",
     "name": "stdout",
     "text": "Mayday mayday! Stay away!\n"
    }
   ],
   "source": [
    "# Create conditionals  \n",
    "    #If % increase == 0%, print \"What a dud\"\n",
    "    #If % increase > 20%, print \"Cha-ching!\"\n",
    "    #If % increase < 20%, print \"Mayday mayday! Stay away\"\n",
    "\n",
    "if Percent_Increase == 0:\n",
    "    print(\"Womp womp. What a dud\")\n",
    "elif Percent_Increase > 20:\n",
    "        print(\"Cha-ching!\")\n",
    "else:\n",
    "        print(\"Mayday mayday! Stay away!\")"
   ]
  }
 ]
}