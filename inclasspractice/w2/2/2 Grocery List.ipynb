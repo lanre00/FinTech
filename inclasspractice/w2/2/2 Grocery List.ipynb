{
 "metadata": {
  "language_info": {
   "codemirror_mode": {
    "name": "ipython",
    "version": 3
   },
   "file_extension": ".py",
   "mimetype": "text/x-python",
   "name": "python",
   "nbconvert_exporter": "python",
   "pygments_lexer": "ipython3",
   "version": "3.8.3-final"
  },
  "orig_nbformat": 2,
  "kernelspec": {
   "name": "python_defaultSpec_1600889140054",
   "display_name": "Python 3.8.3 64-bit ('base': conda)"
  }
 },
 "nbformat": 4,
 "nbformat_minor": 2,
 "cells": [
  {
   "cell_type": "code",
   "execution_count": 13,
   "metadata": {
    "tags": []
   },
   "outputs": [
    {
     "output_type": "stream",
     "name": "stdout",
     "text": "['Water', 'Butter']\n['Eggs', 'Apples', 'Cinnamon', 'Sugar', 'Milk']\n['Butter', 'Apples', 'Sugar']\n['Water', 'Butter', 'Eggs', 'Gala Apples', 'Cinnamon', 'Sugar', 'Milk', 'Flour']\n"
    },
    {
     "output_type": "execute_result",
     "data": {
      "text/plain": "8"
     },
     "metadata": {},
     "execution_count": 13
    }
   ],
   "source": [
    "# @TODO: Create a list of groceries\n",
    "\n",
    "Apple_Pie_Ingredients = [\"Water\", \"Butter\", \"Eggs\", \"Apples\", \"Cinnamon\", \"Sugar\", \"Milk\"]\n",
    "\n",
    "# @TODO: Find the first two items on the list\n",
    "print(Apple_Pie_Ingredients[:2])\n",
    "\n",
    "# @TODO: Find the last five items on the list\n",
    "print(Apple_Pie_Ingredients[-5:])\n",
    "\n",
    "# @TODO: Find every other item on the list, starting from the second item\n",
    "print(Apple_Pie_Ingredients[1::2])\n",
    "\n",
    "# @TODO: Add an element to the end of the list\n",
    "Apple_Pie_Ingredients.append(\"Flour\")\n",
    "\n",
    "# @TODO: Changes a specified element within the list at the given index\n",
    "Apple_Pie_Ingredients [3] = 'Gala Apples'\n",
    "print(Apple_Pie_Ingredients)\n",
    "\n",
    "# @TODO: Calculate how many items you have in the list\n",
    "len(Apple_Pie_Ingredients)"
   ]
  },
  {
   "cell_type": "code",
   "execution_count": 35,
   "metadata": {},
   "outputs": [
    {
     "output_type": "execute_result",
     "data": {
      "text/plain": "['Water',\n 'Butter',\n 'Eggs',\n 'Gala Apples',\n 'Cinnamon',\n 'Milk',\n 'Flour',\n 'Sugar']"
     },
     "metadata": {},
     "execution_count": 35
    }
   ],
   "source": [
    "Apple_Pie_Ingredients"
   ]
  },
  {
   "cell_type": "code",
   "execution_count": null,
   "metadata": {},
   "outputs": [],
   "source": []
  }
 ]
}