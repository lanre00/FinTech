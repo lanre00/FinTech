{
 "metadata": {
  "language_info": {
   "codemirror_mode": {
    "name": "ipython",
    "version": 3
   },
   "file_extension": ".py",
   "mimetype": "text/x-python",
   "name": "python",
   "nbconvert_exporter": "python",
   "pygments_lexer": "ipython3",
   "version": "3.8.3-final"
  },
  "orig_nbformat": 2,
  "kernelspec": {
   "name": "Python 3.8.3 64-bit ('base': conda)",
   "display_name": "Python 3.8.3 64-bit ('base': conda)",
   "metadata": {
    "interpreter": {
     "hash": "56aa745dbf110fffe67ab97579c8426f9f33b0f6d85a0b1870a0b4b42d694f05"
    }
   }
  }
 },
 "nbformat": 4,
 "nbformat_minor": 2,
 "cells": [
  {
   "cell_type": "code",
   "execution_count": 9,
   "metadata": {},
   "outputs": [],
   "source": [
    "# @TODO: Initialize the metric variables\n",
    "\n",
    "total = 0\n",
    "count = 0\n",
    "maximum = 0\n",
    "minimum = 0\n",
    "average = 0"
   ]
  },
  {
   "cell_type": "code",
   "execution_count": 10,
   "metadata": {},
   "outputs": [],
   "source": [
    "# @TODO: Initialize lists to hold profitable and unprofitable day profits/losses\n",
    "\n",
    "profitable_day = []\n",
    "unprofitable_day = []"
   ]
  },
  {
   "cell_type": "code",
   "execution_count": 16,
   "metadata": {},
   "outputs": [],
   "source": [
    "# List of trading profits/losses\n",
    "\n",
    "trading_pnl = [-224,  352, 252, 354, -544, -650,   56, 123, -43,  254, 325, -123,  47, 321,  123, 133, -151, 613, 232, -311]"
   ]
  },
  {
   "cell_type": "code",
   "execution_count": 26,
   "metadata": {},
   "outputs": [],
   "source": [
    "# @TODO: Iterate over each element of the list\n",
    "\n",
    "for day_pnl in trading_pnl:\n",
    "\n",
    "# @TODO: Cumulatively sum up the total and count\n",
    "    total += day_pnl\n",
    "    count += 1"
   ]
  },
  {
   "cell_type": "code",
   "execution_count": 27,
   "metadata": {},
   "outputs": [],
   "source": [
    "# @TODO: Write logic to determine minimum and maximum values\n",
    "\n",
    "if minimum == 0:\n",
    "    minimum = day_pnl\n",
    "elif day_pnl < minimum:\n",
    "        minimum = day_pnl\n",
    "elif day_pnl > maximum:\n",
    "        maximum = day_pnl\n"
   ]
  },
  {
   "cell_type": "code",
   "execution_count": 28,
   "metadata": {},
   "outputs": [],
   "source": [
    "# @TODO: Write logic to determine profitable vs. unprofitable days\n",
    "\n",
    "if day_pnl > 0:\n",
    "    profitable_day.append(day_pnl)\n",
    "elif day_pnl <= 0:\n",
    "    unprofitable_day.append(day_pnl)"
   ]
  },
  {
   "cell_type": "code",
   "execution_count": 31,
   "metadata": {},
   "outputs": [],
   "source": [
    "# @TODO: Calculate the average\n",
    "average = total / count\n",
    "\n",
    "# @TODO: Calculate count metrics\n",
    "profitable_count = len(profitable_day)\n",
    "unprofitable_count = len(unprofitable_day)\n",
    "\n",
    "# @TODO: Calculate percentage metrics\n",
    "percent_profitable = (profitable_count / count) * 100\n",
    "percent_unprofitable = (unprofitable_count / count) * 100"
   ]
  },
  {
   "cell_type": "code",
   "execution_count": 41,
   "metadata": {
    "tags": []
   },
   "outputs": [
    {
     "output_type": "stream",
     "name": "stdout",
     "text": "-------Summary Statistics--------\n \nNumber of total days: 20\nNet total: 3417\nDaily average: 170.85\nNumber of profitable days: 0\nNumber of unprofitable day: 2\nPercentage of unprofitable days: 0.0\n"
    }
   ],
   "source": [
    "# @TODO: Print out the summary statistics\n",
    "print(\"-------Summary Statistics--------\")\n",
    "print(\" \")\n",
    "print(f\"Number of total days: {count}\")\n",
    "print(f\"Net total: {total}\")\n",
    "print(f\"Daily average: {average}\")\n",
    "print(f\"Number of profitable days: {profitable_count}\")\n",
    "print(f\"Number of unprofitable day: {unprofitable_count}\")\n",
    "print(f\"Percentage of unprofitable days: {percent_profitable}\")"
   ]
  },
  {
   "cell_type": "code",
   "execution_count": null,
   "metadata": {},
   "outputs": [],
   "source": []
  }
 ]
}