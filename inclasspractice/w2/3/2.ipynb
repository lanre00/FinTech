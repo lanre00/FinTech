{
 "metadata": {
  "language_info": {
   "codemirror_mode": {
    "name": "ipython",
    "version": 3
   },
   "file_extension": ".py",
   "mimetype": "text/x-python",
   "name": "python",
   "nbconvert_exporter": "python",
   "pygments_lexer": "ipython3",
   "version": "3.8.3-final"
  },
  "orig_nbformat": 2,
  "kernelspec": {
   "name": "python_defaultSpec_1600532443937",
   "display_name": "Python 3.8.3 64-bit ('anaconda3': virtualenv)"
  }
 },
 "nbformat": 4,
 "nbformat_minor": 2,
 "cells": [
  {
   "cell_type": "code",
   "execution_count": 18,
   "metadata": {},
   "outputs": [
    {
     "output_type": "error",
     "ename": "SyntaxError",
     "evalue": "invalid syntax (<ipython-input-18-0e1e55166651>, line 8)",
     "traceback": [
      "\u001b[0;36m  File \u001b[0;32m\"<ipython-input-18-0e1e55166651>\"\u001b[0;36m, line \u001b[0;32m8\u001b[0m\n\u001b[0;31m    def present_value(future_value) / ((1+discount_rate)** compounding_periods*years)\u001b[0m\n\u001b[0m                                    ^\u001b[0m\n\u001b[0;31mSyntaxError\u001b[0m\u001b[0;31m:\u001b[0m invalid syntax\n"
     ]
    }
   ],
   "source": [
    "price(700)\n",
    "future_value(1000)\n",
    "discount_rate(.1)\n",
    "compounding_periods(1)\n",
    "years(5)\n",
    "\n",
    "return (future_value, discount_rate, years)\n",
    "def present_value(future_value) / ((1+discount_rate)** compounding_periods*years)\n",
    "\n",
    "print(present_value)"
   ]
  }
 ]
}