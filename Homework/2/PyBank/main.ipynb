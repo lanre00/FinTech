{
 "metadata": {
  "language_info": {
   "codemirror_mode": {
    "name": "ipython",
    "version": 3
   },
   "file_extension": ".py",
   "mimetype": "text/x-python",
   "name": "python",
   "nbconvert_exporter": "python",
   "pygments_lexer": "ipython3",
   "version": "3.8.3-final"
  },
  "orig_nbformat": 2,
  "kernelspec": {
   "name": "Python 3.8.3 64-bit ('base': conda)",
   "display_name": "Python 3.8.3 64-bit ('base': conda)",
   "metadata": {
    "interpreter": {
     "hash": "56aa745dbf110fffe67ab97579c8426f9f33b0f6d85a0b1870a0b4b42d694f05"
    }
   }
  }
 },
 "nbformat": 4,
 "nbformat_minor": 2,
 "cells": [
  {
   "cell_type": "code",
   "execution_count": 2,
   "metadata": {},
   "outputs": [],
   "source": [
    "#Imports\n",
    "import csv\n",
    "from pathlib import Path\n",
    "import math"
   ]
  },
  {
   "cell_type": "code",
   "execution_count": 9,
   "metadata": {
    "tags": []
   },
   "outputs": [
    {
     "output_type": "stream",
     "name": "stdout",
     "text": [
      "Financial Analysis:\nTotal Months:  86\nTotal: $38382578\nAverage Change: $446309.05\n"
     ]
    }
   ],
   "source": [
    "#Variables\n",
    "\n",
    "total_months = 0\n",
    "total_net = 0\n",
    "average = 0\n",
    "maximum = 0\n",
    "minimum = 0\n",
    "\n",
    "profitable_date = []\n",
    "unprofitable_date = []\n",
    "\n",
    "#Set path\n",
    "budget_data = Path(\"./Resources/budget_data.csv\")\n",
    "\n",
    "# Read CSV file\n",
    "with open(budget_data, 'r') as csvfile:\n",
    "    csvreader = csv.reader(csvfile)\n",
    "\n",
    "    #Skip the header \n",
    "    header = next(csvreader)\n",
    "    first_row = next(csvreader)\n",
    "    \n",
    "    #Calculate requests\n",
    "    total_months = total_months + 1\n",
    "    total_net = total_net + int(first_row[1])\n",
    "    prev_net = int(first_row[1])\n",
    "\n",
    "\n",
    "    for row in csvreader:\n",
    "\n",
    "        #track the total for months and net\n",
    "        total_months = total_months + 1\n",
    "        total_net = total_net + int(row[1])\n",
    "        average = total_net / total_months\n",
    "        \n",
    "        if maximum == 0 and minimum == 0:\n",
    "            maximum = row\n",
    "            minimum = row\n",
    "\n",
    "        elif row > maximum:\n",
    "            maximum = row\n",
    "\n",
    "        elif row < minimum:\n",
    "            minimum = row\n",
    "\n",
    "\n",
    "\n",
    "\n",
    "print(f\"Financial Analysis:\")\n",
    "print(f\"Total Months: {total_months}\")\n",
    "print(f\"Total: ${total_net}\")\n",
    "print(f\"Average Change: ${average:0.2f}\")\n",
    "#print(f\"Greatest Increase in Revenue: {greatest_increase}\")\n",
    "#print(f\"Greatest Decrease in Revenue: {greatest_decrease}\")     "
   ]
  },
  {
   "cell_type": "code",
   "execution_count": null,
   "metadata": {},
   "outputs": [],
   "source": []
  }
 ]
}