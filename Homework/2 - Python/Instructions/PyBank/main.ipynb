{
 "metadata": {
  "language_info": {
   "codemirror_mode": {
    "name": "ipython",
    "version": 3
   },
   "file_extension": ".py",
   "mimetype": "text/x-python",
   "name": "python",
   "nbconvert_exporter": "python",
   "pygments_lexer": "ipython3",
   "version": "3.8.3-final"
  },
  "orig_nbformat": 2,
  "kernelspec": {
   "name": "python3",
   "display_name": "Python 3.8.3 64-bit ('anaconda3': virtualenv)",
   "metadata": {
    "interpreter": {
     "hash": "56aa745dbf110fffe67ab97579c8426f9f33b0f6d85a0b1870a0b4b42d694f05"
    }
   }
  }
 },
 "nbformat": 4,
 "nbformat_minor": 2,
 "cells": [
  {
   "cell_type": "code",
   "execution_count": 1,
   "metadata": {},
   "outputs": [],
   "source": [
    "#Imports\n",
    "import csv\n",
    "from pathlib import Path\n",
    "import math\n",
    "import numpy as np"
   ]
  },
  {
   "cell_type": "code",
   "execution_count": 34,
   "metadata": {
    "tags": []
   },
   "outputs": [
    {
     "output_type": "stream",
     "name": "stdout",
     "text": [
      "Financial Analysis:\nTotal Months: 86\nTotal: $38382578\nAverage Change: $-2315.12\nGreatest Increase in Revenue: Feb-2012 1926159\nGreatest Decrease in Revenue: Sep-2013 -2196167\n"
     ]
    }
   ],
   "source": [
    "#Variables\n",
    "\n",
    "total_months = 0\n",
    "total_net = 0\n",
    "average = 0\n",
    "total_change=0\n",
    "count_change=0\n",
    "greatest_increase = 0\n",
    "greatest_decrease = 0\n",
    "\n",
    "#date = []\n",
    "profit_loss = []\n",
    "diff_list = []\n",
    "months_list=[]\n",
    "\n",
    "#Set path\n",
    "budget_data = Path(\"./Resources/budget_data.csv\")\n",
    "\n",
    "#Open the CSV\n",
    "with open(budget_data, newline=\"\") as csvfile:\n",
    "    csvreader = csv.reader(csvfile, delimiter=\",\")\n",
    "\n",
    "    #Skip the header - contains header\n",
    "    first_row = next(csvreader)\n",
    "\n",
    "    # First row = ['Date', 'Profit/Losses']\n",
    "    for row in csvreader:\n",
    "\n",
    "        #Track the total month count and total profit/losses\n",
    "        total_months += 1\n",
    "        total_net = total_net + int(row[1])\n",
    "\n",
    "        # Isolate the columns into they're own lists\n",
    "        months_list.append(row[0])\n",
    "        profit_loss.append(int(row[1]))\n",
    "    \n",
    "    for i in range(1, len(profit_loss)): # for i in range(3) is very common for iterating 3 times\n",
    "        diff_list.append(profit_loss[i]-profit_loss[i-1]) # current each_pl minus previous each_pl\n",
    "\n",
    "    for element in diff_list: \n",
    "        total_change += element\n",
    "        count_change += 1\n",
    "\n",
    "        average = total_change/count_change\n",
    "        \n",
    "        if element > greatest_increase: \n",
    "            greatest_increase = element\n",
    "        if element < greatest_decrease: \n",
    "            greatest_decrease = element\n",
    "\n",
    "    gt_increase_index=diff_list.index(greatest_increase)\n",
    "    #print(months_list[gt_increase_index+1])\n",
    "    gt_decrease_index=diff_list.index(greatest_decrease)\n",
    "    #print(months_list[gt_decrease_index+1])\n",
    "   \n",
    "\n",
    "print(f\"Financial Analysis:\")\n",
    "print(f\"Total Months: {total_months}\")\n",
    "print(f\"Total: ${total_net}\")\n",
    "print(f\"Average Change: ${average:0.2f}\")\n",
    "print(f\"Greatest Increase in Revenue: {months_list[gt_increase_index+1]} {greatest_increase}\")\n",
    "print(f\"Greatest Decrease in Revenue: {months_list[gt_decrease_index+1]} {greatest_decrease}\")     "
   ]
  },
  {
   "cell_type": "code",
   "execution_count": 35,
   "metadata": {},
   "outputs": [],
   "source": [
    "output_path = Path('Financial_Analysis.txt')\n",
    "\n",
    "with open(output_path, 'w') as file:\n",
    "    file.write(f\"Financial Analysis\\n\")\n",
    "    file.write(f\"Total Months: {total_months}\\n\")\n",
    "    file.write(f\"Total: ${total_net}\\n\")\n",
    "    file.write(f\"Average Change: ${average:0.2f}\\n\")\n",
    "    file.write(f\"Greatest Increase in Revenue: {months_list[gt_increase_index+1]} {greatest_increase}\\n\")\n",
    "    file.write(f\"Greatest Decrease in Revenue: {months_list[gt_decrease_index+1]} {greatest_decrease}\\n\")"
   ]
  }
 ]
}